{
 "cells": [
  {
   "cell_type": "code",
   "execution_count": 1,
   "metadata": {
    "collapsed": true
   },
   "outputs": [],
   "source": [
    "import matplotlib.pyplot as plt\n",
    "import random\n",
    "import math\n",
    "import statistics as st"
   ]
  },
  {
   "cell_type": "code",
   "execution_count": 6,
   "metadata": {
    "collapsed": true
   },
   "outputs": [],
   "source": [
    "%matplotlib inline"
   ]
  },
  {
   "cell_type": "code",
   "execution_count": 25,
   "metadata": {
    "collapsed": true
   },
   "outputs": [],
   "source": [
    "# def roll_die():\n",
    "#     return random.randint(1,6)"
   ]
  },
  {
   "cell_type": "code",
   "execution_count": 37,
   "metadata": {
    "collapsed": false
   },
   "outputs": [
    {
     "name": "stdout",
     "output_type": "stream",
     "text": [
      "Roll =  6\n",
      "Turn count =  1\n",
      "6\n",
      "Roll =  2\n",
      "Turn count =  2\n",
      "8\n",
      "Roll =  6\n",
      "Turn count =  3\n",
      "14\n",
      "Roll =  3\n",
      "Turn count =  4\n",
      "17\n",
      "Roll =  6\n",
      "Turn count =  5\n",
      "23\n",
      "Roll =  5\n",
      "Turn count =  6\n",
      "28\n",
      "Roll =  2\n",
      "Turn count =  7\n",
      "30\n",
      "Roll =  5\n",
      "Turn count =  8\n",
      "35\n",
      "Roll =  1\n"
     ]
    }
   ],
   "source": [
    "def roll_die():\n",
    "    return random.randint(1,6)\n",
    "\n",
    "def play_game():\n",
    "    turn_count = 0\n",
    "    score = 0\n",
    "    for n in range(10):\n",
    "        roll = roll_die()\n",
    "        turn_count += 1\n",
    "        print(\"Roll = \", roll)\n",
    "        if roll == 1:\n",
    "            break\n",
    "        else:\n",
    "            score = score + roll          \n",
    "        print(\"Turn count = \", turn_count)\n",
    "        print(score)\n",
    "    \n",
    "play_game()\n",
    "\n",
    "# class Player:\n",
    "#     \"\"\"\n",
    "#     Responsibilities:\n",
    "#     Keep track of score and number of rolls\n",
    "#     Determine if player should roll again based on current state\n",
    "#     Run through a complete turn\n",
    "#     - \n",
    "#     \"\"\"\n",
    "    \n",
    "#     def __init__(self):\n",
    "#         self.points = 0\n",
    "#         self.reset()\n",
    "    \n",
    "#     def reset(self):\n",
    "#         self.points = 0\n",
    "#         self.rolls = 0\n",
    "    \n",
    "#     def should_roll_again(self):\n",
    "#         \"\"\"\n",
    "#         Returns True if the Player should roll again, False otherwise\n",
    "#         This method should probably be overridden with subclasses to do more complex stuff!\n",
    "#         \"\"\"\n",
    "\n",
    "#     #    if go_again = False\n",
    "    \n",
    "#         return True\n",
    "    \n",
    "#     def play_turn(self):\n",
    "#         self.reset()\n",
    "        \n",
    "#         while True:\n",
    "#             roll = roll_die()\n",
    "#             self.rolls += 1\n",
    "#             print(self.roll)\n",
    "#             if roll == 1:\n",
    "#                 print(\"roll is: roll\")\n",
    "#                 break\n",
    "#             else:\n",
    "#                 self.points += roll\n",
    "#             if not self.should_roll_again():\n",
    "#                 break\n",
    "        \n",
    "#         return self.points"
   ]
  },
  {
   "cell_type": "code",
   "execution_count": 10,
   "metadata": {
    "collapsed": true
   },
   "outputs": [],
   "source": [
    "# def player_turn():\n",
    "#     turn_points = 0\n",
    "#     score = 0\n",
    "#     turn_count = 7\n",
    "#     while turn_count >= 1:\n",
    "#         if roll_die() != 1:\n",
    "#             turn_points += roll_die()\n",
    "#             turn_count -= 1\n",
    "#         else:\n",
    "#             turn_count = 7\n",
    "#             turn_points = 0"
   ]
  },
  {
   "cell_type": "code",
   "execution_count": 19,
   "metadata": {
    "collapsed": true
   },
   "outputs": [],
   "source": [
    "# class PigSolitaireGame:\n",
    "#     def __init__(self, player):\n",
    "#         self.player = player\n",
    "    \n",
    "#     def play_game(self):\n",
    "#         total_points = 0\n",
    "#         for _ in range(7):\n",
    "#             total_points += self.player.play_turn()\n",
    "        \n",
    "#         return total_points"
   ]
  },
  {
   "cell_type": "code",
   "execution_count": 20,
   "metadata": {
    "collapsed": false
   },
   "outputs": [
    {
     "ename": "NameError",
     "evalue": "name 'Player' is not defined",
     "output_type": "error",
     "traceback": [
      "\u001b[0;31m---------------------------------------------------------------------------\u001b[0m",
      "\u001b[0;31mNameError\u001b[0m                                 Traceback (most recent call last)",
      "\u001b[0;32m<ipython-input-20-805fd8be879c>\u001b[0m in \u001b[0;36m<module>\u001b[0;34m()\u001b[0m\n\u001b[0;32m----> 1\u001b[0;31m \u001b[0;32mclass\u001b[0m \u001b[0mCautiousPlayer\u001b[0m\u001b[0;34m(\u001b[0m\u001b[0mPlayer\u001b[0m\u001b[0;34m)\u001b[0m\u001b[0;34m:\u001b[0m\u001b[0;34m\u001b[0m\u001b[0m\n\u001b[0m\u001b[1;32m      2\u001b[0m     \u001b[0;31m# You only need to roll\u001b[0m\u001b[0;34m\u001b[0m\u001b[0;34m\u001b[0m\u001b[0m\n\u001b[1;32m      3\u001b[0m     \u001b[0;32mdef\u001b[0m \u001b[0mshould_roll_again\u001b[0m\u001b[0;34m(\u001b[0m\u001b[0mself\u001b[0m\u001b[0;34m)\u001b[0m\u001b[0;34m:\u001b[0m\u001b[0;34m\u001b[0m\u001b[0m\n\u001b[1;32m      4\u001b[0m         \u001b[0;32mif\u001b[0m \u001b[0mself\u001b[0m\u001b[0;34m.\u001b[0m\u001b[0mrolls\u001b[0m \u001b[0;34m<\u001b[0m \u001b[0;36m2\u001b[0m\u001b[0;34m:\u001b[0m\u001b[0;34m\u001b[0m\u001b[0m\n\u001b[1;32m      5\u001b[0m             \u001b[0;32mreturn\u001b[0m \u001b[0;32mTrue\u001b[0m\u001b[0;34m\u001b[0m\u001b[0m\n",
      "\u001b[0;31mNameError\u001b[0m: name 'Player' is not defined"
     ]
    }
   ],
   "source": [
    "# class CautiousPlayer(Player):\n",
    "#     # You only need to roll \n",
    "#     def should_roll_again(self):\n",
    "#         if self.rolls < 2:\n",
    "#             return True\n",
    "#         else:\n",
    "#             return False"
   ]
  },
  {
   "cell_type": "code",
   "execution_count": null,
   "metadata": {
    "collapsed": true
   },
   "outputs": [],
   "source": [
    "# game = PigSolitaireGame(CautiousPlayer())\n",
    "\n",
    "# print(game.play_game())"
   ]
  }
 ],
 "metadata": {
  "kernelspec": {
   "display_name": "Python 3",
   "language": "python",
   "name": "python3"
  },
  "language_info": {
   "codemirror_mode": {
    "name": "ipython",
    "version": 3
   },
   "file_extension": ".py",
   "mimetype": "text/x-python",
   "name": "python",
   "nbconvert_exporter": "python",
   "pygments_lexer": "ipython3",
   "version": "3.4.3"
  }
 },
 "nbformat": 4,
 "nbformat_minor": 0
}
